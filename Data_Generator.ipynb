{
 "cells": [
  {
   "cell_type": "code",
   "execution_count": 2,
   "id": "1cbdd8e7",
   "metadata": {},
   "outputs": [
    {
     "name": "stdout",
     "output_type": "stream",
     "text": [
      "Requirement already satisfied: psycopg2 in c:\\users\\umar syam\\anaconda3\\lib\\site-packages (2.9.6)\n"
     ]
    },
    {
     "name": "stderr",
     "output_type": "stream",
     "text": [
      "\n",
      "[notice] A new release of pip is available: 23.0 -> 23.2.1\n",
      "[notice] To update, run: python.exe -m pip install --upgrade pip\n"
     ]
    },
    {
     "name": "stdout",
     "output_type": "stream",
     "text": [
      "Requirement already satisfied: faker in c:\\users\\umar syam\\anaconda3\\lib\\site-packages (18.3.1)"
     ]
    },
    {
     "name": "stderr",
     "output_type": "stream",
     "text": [
      "\n",
      "[notice] A new release of pip is available: 23.0 -> 23.2.1\n",
      "[notice] To update, run: python.exe -m pip install --upgrade pip\n"
     ]
    },
    {
     "name": "stdout",
     "output_type": "stream",
     "text": [
      "\n",
      "Requirement already satisfied: python-dateutil>=2.4 in c:\\users\\umar syam\\anaconda3\\lib\\site-packages (from faker) (2.8.2)\n",
      "Requirement already satisfied: six>=1.5 in c:\\users\\umar syam\\anaconda3\\lib\\site-packages (from python-dateutil>=2.4->faker) (1.16.0)\n",
      "Requirement already satisfied: faker-commerce in c:\\users\\umar syam\\anaconda3\\lib\\site-packages (1.0.3)\n",
      "Requirement already satisfied: faker in c:\\users\\umar syam\\anaconda3\\lib\\site-packages (from faker-commerce) (18.3.1)\n",
      "Requirement already satisfied: python-dateutil>=2.4 in c:\\users\\umar syam\\anaconda3\\lib\\site-packages (from faker->faker-commerce) (2.8.2)\n",
      "Requirement already satisfied: six>=1.5 in c:\\users\\umar syam\\anaconda3\\lib\\site-packages (from python-dateutil>=2.4->faker->faker-commerce) (1.16.0)\n"
     ]
    },
    {
     "name": "stderr",
     "output_type": "stream",
     "text": [
      "\n",
      "[notice] A new release of pip is available: 23.0 -> 23.2.1\n",
      "[notice] To update, run: python.exe -m pip install --upgrade pip\n"
     ]
    }
   ],
   "source": [
    "!pip install psycopg2\n",
    "!pip install faker\n",
    "!pip install faker-commerce"
   ]
  },
  {
   "cell_type": "code",
   "execution_count": 3,
   "id": "000aa43a",
   "metadata": {},
   "outputs": [],
   "source": [
    "import psycopg2\n",
    "from faker import Faker\n",
    "import faker_commerce\n",
    "import random\n",
    "from datetime import datetime, timedelta"
   ]
  },
  {
   "cell_type": "code",
   "execution_count": 4,
   "id": "8ecaef7d",
   "metadata": {},
   "outputs": [],
   "source": [
    "# Replace these with your PostgreSQL database credentials\n",
    "db_host = \"localhost\"\n",
    "db_name = \"247_Market\"\n",
    "db_user = \"postgres\"\n",
    "db_password = \"root\""
   ]
  },
  {
   "cell_type": "code",
   "execution_count": 44,
   "id": "2bb1d9a6",
   "metadata": {},
   "outputs": [],
   "source": [
    "# Buat koneksi ke dalam database (postgresql)\n",
    "conn = psycopg2.connect(host = db_host, database = db_name, user = db_user, password = db_password)"
   ]
  },
  {
   "cell_type": "code",
   "execution_count": 45,
   "id": "f84af2ea",
   "metadata": {},
   "outputs": [],
   "source": [
    "# Create Cursor object\n",
    "cursor = conn.cursor()"
   ]
  },
  {
   "cell_type": "code",
   "execution_count": 11,
   "id": "2defa17c",
   "metadata": {},
   "outputs": [],
   "source": [
    "# Create variable to run Faker\n",
    "fake = Faker()"
   ]
  },
  {
   "cell_type": "markdown",
   "id": "3cbef1b7",
   "metadata": {},
   "source": [
    "## Customers Data"
   ]
  },
  {
   "cell_type": "code",
   "execution_count": 9,
   "id": "a86b4ad7",
   "metadata": {},
   "outputs": [],
   "source": [
    "customers = []\n",
    "n_customers = 100"
   ]
  },
  {
   "cell_type": "code",
   "execution_count": 13,
   "id": "00cc3cc1",
   "metadata": {},
   "outputs": [
    {
     "data": {
      "text/plain": [
       "[]"
      ]
     },
     "execution_count": 13,
     "metadata": {},
     "output_type": "execute_result"
    }
   ],
   "source": [
    "customers"
   ]
  },
  {
   "cell_type": "code",
   "execution_count": 23,
   "id": "d036e00d",
   "metadata": {},
   "outputs": [],
   "source": [
    "for _ in range(n_customers):\n",
    "    customer_data = {\n",
    "        \"full_name\" : fake.name(),\n",
    "        \"phone_number\" : fake.phone_number()\n",
    "    }\n",
    "    customers.append(customer_data)"
   ]
  },
  {
   "cell_type": "code",
   "execution_count": 25,
   "id": "109f9da2",
   "metadata": {},
   "outputs": [],
   "source": [
    "customers.clear()"
   ]
  },
  {
   "cell_type": "code",
   "execution_count": 26,
   "id": "1b4b78d3",
   "metadata": {},
   "outputs": [
    {
     "data": {
      "text/plain": [
       "[]"
      ]
     },
     "execution_count": 26,
     "metadata": {},
     "output_type": "execute_result"
    }
   ],
   "source": [
    "customers"
   ]
  },
  {
   "cell_type": "code",
   "execution_count": 16,
   "id": "982b1bbf",
   "metadata": {},
   "outputs": [],
   "source": [
    "for item in customers:\n",
    "    customers_insert_query = '''\n",
    "    INSERT INTO customers(full_name, phone_number)\n",
    "    VALUES(%s, %s);\n",
    "    '''\n",
    "    cursor.execute(customers_insert_query, (\n",
    "        item[\"full_name\"],\n",
    "        item[\"phone_number\"]\n",
    "    ))\n",
    "    \n",
    "conn.commit()"
   ]
  },
  {
   "cell_type": "markdown",
   "id": "fb82457f",
   "metadata": {},
   "source": [
    "## Products"
   ]
  },
  {
   "cell_type": "code",
   "execution_count": 27,
   "id": "09a6130f",
   "metadata": {},
   "outputs": [],
   "source": [
    "products = []\n",
    "n_products = 100"
   ]
  },
  {
   "cell_type": "code",
   "execution_count": 28,
   "id": "f9fa73fb",
   "metadata": {},
   "outputs": [],
   "source": [
    "# definisikan tanggal awal\n",
    "start_date = datetime(2024, 1, 1)\n",
    "\n",
    "# definisikan tanggal akhir\n",
    "end_date = datetime(2027, 1, 1)"
   ]
  },
  {
   "cell_type": "code",
   "execution_count": 30,
   "id": "f3c6148a",
   "metadata": {},
   "outputs": [],
   "source": [
    "# Add Commerce Provider\n",
    "fake.add_provider(faker_commerce.Provider)"
   ]
  },
  {
   "cell_type": "code",
   "execution_count": 31,
   "id": "e53d700a",
   "metadata": {},
   "outputs": [],
   "source": [
    "for _ in range(n_products): #for _ in range(100)\n",
    "    products_data = {\n",
    "        \"product_name\" : fake.ecommerce_name(),\n",
    "        \"list_price\" : fake.ecommerce_price(),\n",
    "        \"stock\" : random.randint(1, 250),\n",
    "        \"product_description\" : fake.paragraph(nb_sentences=1),\n",
    "        \"exp_date\" : fake.date_time_between(start_date = start_date, end_date = end_date)\n",
    "    }\n",
    "    products.append(products_data)"
   ]
  },
  {
   "cell_type": "code",
   "execution_count": 33,
   "id": "f8d494ee",
   "metadata": {},
   "outputs": [],
   "source": [
    "for item in products:\n",
    "    products_insert_query = '''\n",
    "    INSERT INTO products(product_name, list_price, stock, product_description, exp_date)\n",
    "    VALUES(%s, %s, %s, %s, %s);\n",
    "    '''\n",
    "    cursor.execute(products_insert_query, (\n",
    "        item[\"product_name\"],\n",
    "        item[\"list_price\"],\n",
    "        item[\"stock\"],\n",
    "        item[\"product_description\"],\n",
    "        item[\"exp_date\"],\n",
    "    ))\n",
    "    \n",
    "conn.commit()"
   ]
  },
  {
   "cell_type": "markdown",
   "id": "3af3e64c",
   "metadata": {},
   "source": [
    "## Stores"
   ]
  },
  {
   "cell_type": "code",
   "execution_count": 34,
   "id": "d5500967",
   "metadata": {},
   "outputs": [],
   "source": [
    "stores = []\n",
    "n_store = 5"
   ]
  },
  {
   "cell_type": "code",
   "execution_count": 37,
   "id": "f5d75830",
   "metadata": {},
   "outputs": [],
   "source": [
    "for _ in range(n_store):\n",
    "    stores_data = {\n",
    "        \"store_name\" : fake.company() + \" 247\",\n",
    "        \"web_address\" : fake.domain_name(),\n",
    "        \"physical_address\" : fake.address(),\n",
    "        \"latitude\": fake.latitude(),\n",
    "        \"longitude\": fake.longitude()\n",
    "    }\n",
    "    stores.append(stores_data)"
   ]
  },
  {
   "cell_type": "code",
   "execution_count": 46,
   "id": "7fd27d9f",
   "metadata": {},
   "outputs": [],
   "source": [
    "for item in stores:\n",
    "    stores_insert_query = '''\n",
    "    INSERT INTO stores(store_name, web_address, physical_address, latitude, longitude)\n",
    "    VALUES(%s, %s, %s, %s, %s);\n",
    "    '''\n",
    "    cursor.execute(stores_insert_query, (\n",
    "        item[\"store_name\"],\n",
    "        item[\"web_address\"],\n",
    "        item[\"physical_address\"],\n",
    "        item[\"latitude\"],\n",
    "        item[\"longitude\"]\n",
    "    ))\n",
    "    \n",
    "conn.commit()"
   ]
  },
  {
   "cell_type": "code",
   "execution_count": 43,
   "id": "8f44266d",
   "metadata": {},
   "outputs": [],
   "source": [
    "'''\n",
    "Jika ada error \n",
    "InFailedSqlTransaction: current transaction is aborted, commands ignored until end of transaction block\n",
    "jalankan perintah dibawah dan konek ulang ke database\n",
    "'''\n",
    "cursor.close()\n",
    "conn.close()"
   ]
  }
 ],
 "metadata": {
  "kernelspec": {
   "display_name": "Python 3 (ipykernel)",
   "language": "python",
   "name": "python3"
  },
  "language_info": {
   "codemirror_mode": {
    "name": "ipython",
    "version": 3
   },
   "file_extension": ".py",
   "mimetype": "text/x-python",
   "name": "python",
   "nbconvert_exporter": "python",
   "pygments_lexer": "ipython3",
   "version": "3.9.12"
  }
 },
 "nbformat": 4,
 "nbformat_minor": 5
}
